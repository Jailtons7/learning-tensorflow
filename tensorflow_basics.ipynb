{
 "cells": [
  {
   "cell_type": "code",
   "execution_count": 1,
   "id": "0b8b8819-bc83-4d88-87b5-feab6074929f",
   "metadata": {},
   "outputs": [],
   "source": [
    "import os\n",
    "os.environ['TF_CPP_MIN_LOG_LEVEL'] = \"2\""
   ]
  },
  {
   "cell_type": "code",
   "execution_count": 2,
   "id": "951cbacf-b299-4dda-837f-83c4b0e5c6f1",
   "metadata": {},
   "outputs": [],
   "source": [
    "import tensorflow as tf"
   ]
  },
  {
   "cell_type": "code",
   "execution_count": 11,
   "id": "e1c51913-0a26-47cb-ad03-4a4d599c078d",
   "metadata": {},
   "outputs": [
    {
     "name": "stdout",
     "output_type": "stream",
     "text": [
      "tf.Tensor(\n",
      "[[4. 4. 4. 4. 4.]\n",
      " [4. 4. 4. 4. 4.]\n",
      " [4. 4. 4. 4. 4.]], shape=(3, 5), dtype=float32) tf.Tensor(\n",
      "[[1 2 3]\n",
      " [4 5 6]], shape=(2, 3), dtype=int32) tf.Tensor(\n",
      "[[1. 1. 1.]\n",
      " [1. 1. 1.]\n",
      " [1. 1. 1.]], shape=(3, 3), dtype=float32) tf.Tensor(\n",
      "[[1 0 0]\n",
      " [0 1 0]\n",
      " [0 0 1]], shape=(3, 3), dtype=int32)\n"
     ]
    }
   ],
   "source": [
    "# Initialization of a tensors\n",
    "x = tf.constant(4, shape=(3,5), dtype=tf.float32)\n",
    "y = tf.constant([[1,2,3], [4,5,6]])\n",
    "z = tf.ones((3, 3))\n",
    "w = tf.eye(3, dtype=tf.int32)\n",
    "print(x, y, z, w, end=\"\\n\")"
   ]
  },
  {
   "cell_type": "code",
   "execution_count": 18,
   "id": "b56d29d1-a4e9-4fdb-978d-f62091d8d1da",
   "metadata": {},
   "outputs": [
    {
     "name": "stdout",
     "output_type": "stream",
     "text": [
      "tf.Tensor([10 10 10], shape=(3,), dtype=int32) tf.Tensor([-8 -6 -4], shape=(3,), dtype=int32) tf.Tensor([ 9 16 21], shape=(3,), dtype=int32) tf.Tensor([0.11111111 0.25       0.42857143], shape=(3,), dtype=float64)\n"
     ]
    }
   ],
   "source": [
    "# Mathematical operations\n",
    "x = tf.constant([1, 2, 3])\n",
    "y = tf.constant([9 , 8, 7])\n",
    "sum_ = tf.add(x, y)  # or x + y\n",
    "difference = tf.subtract(x, y)  # or x - y\n",
    "prod = tf.multiply(x, y)  #  or x * y\n",
    "division = tf.divide(x, y)  #  or x / y\n",
    "dot_product = tf.tensordot(x, y, axes=1)\n",
    "print(sum_, difference, prod, division, end=\"\\n\")"
   ]
  },
  {
   "cell_type": "code",
   "execution_count": 34,
   "id": "290ccd14-a5cc-40f6-bc8f-ea2126171aba",
   "metadata": {},
   "outputs": [],
   "source": [
    "# Reshaping\n",
    "x = tf.range(9)\n",
    "reshape1 = tf.reshape(x, shape=(3, 3))\n",
    "\n",
    "y = tf.range(6, 0, -1)\n",
    "reshape2 = tf.reshape(y, (3, 2))\n"
   ]
  },
  {
   "cell_type": "code",
   "execution_count": 35,
   "id": "b82bc8df-932f-4ff3-9d96-432d061c04ae",
   "metadata": {},
   "outputs": [
    {
     "name": "stdout",
     "output_type": "stream",
     "text": [
      "tf.Tensor(\n",
      "[[0 1 2]\n",
      " [3 4 5]\n",
      " [6 7 8]], shape=(3, 3), dtype=int32)\n",
      "tf.Tensor(\n",
      "[[6 5]\n",
      " [4 3]\n",
      " [2 1]], shape=(3, 2), dtype=int32)\n"
     ]
    }
   ],
   "source": [
    "print(reshape1)\n",
    "print(reshape2)"
   ]
  }
 ],
 "metadata": {
  "kernelspec": {
   "display_name": "Python 3 (ipykernel)",
   "language": "python",
   "name": "python3"
  },
  "language_info": {
   "codemirror_mode": {
    "name": "ipython",
    "version": 3
   },
   "file_extension": ".py",
   "mimetype": "text/x-python",
   "name": "python",
   "nbconvert_exporter": "python",
   "pygments_lexer": "ipython3",
   "version": "3.10.6"
  }
 },
 "nbformat": 4,
 "nbformat_minor": 5
}
